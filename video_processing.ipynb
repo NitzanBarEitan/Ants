{
 "cells": [
  {
   "metadata": {},
   "cell_type": "markdown",
   "source": "### Tracking the two pedulums",
   "id": "2ecfd7619e52ba60"
  },
  {
   "cell_type": "code",
   "id": "812d2e3ca60022cc",
   "metadata": {
    "ExecuteTime": {
     "end_time": "2024-11-28T10:28:57.758609Z",
     "start_time": "2024-11-28T10:27:45.861917Z"
    }
   },
   "source": [
    "import cv2\n",
    "import csv\n",
    "\n",
    "# Load video\n",
    "video = cv2.VideoCapture(r\"C:\\Users\\barei\\Downloads\\S6120009.MP4\")  # Replace with the path to your video file\n",
    "\n",
    "# Check if video loaded successfully\n",
    "if not video.isOpened():\n",
    "    print(\"Error: Could not open video.\")\n",
    "    exit()\n",
    "\n",
    "# Read the first frame\n",
    "success, frame = video.read()\n",
    "if not success:\n",
    "    print(\"Error: Could not read video.\")\n",
    "    exit()\n",
    "\n",
    "# Select two ROIs manually for two objects\n",
    "bbox1 = cv2.selectROI(\"Select Object 1\", frame, False)\n",
    "bbox2 = cv2.selectROI(\"Select Object 2\", frame, False)\n",
    "cv2.destroyWindow(\"Select Object 1\")\n",
    "cv2.destroyWindow(\"Select Object 2\")\n",
    "\n",
    "# Initialize MedianFlow trackers for each object\n",
    "tracker1 = cv2.legacy.TrackerMedianFlow_create()\n",
    "tracker2 = cv2.legacy.TrackerMedianFlow_create()\n",
    "tracker1.init(frame, bbox1)\n",
    "tracker2.init(frame, bbox2)\n",
    "\n",
    "# Lists to store coordinates for each object\n",
    "coords_obj1 = []\n",
    "coords_obj2 = []\n",
    "\n",
    "# Tracking loop\n",
    "frame_count = 0\n",
    "while True:\n",
    "    # Read a new frame\n",
    "    success, frame = video.read()\n",
    "    if not success:\n",
    "        print(\"End of video or cannot fetch the frame.\")\n",
    "        break\n",
    "\n",
    "    # Process every 10th frame only\n",
    "    if frame_count % 10 == 0:\n",
    "        # Update the first tracker and draw its bounding box\n",
    "        success1, bbox1 = tracker1.update(frame)\n",
    "        if success1:\n",
    "            (x1, y1, w1, h1) = [int(v) for v in bbox1]\n",
    "            cv2.rectangle(frame, (x1, y1), (x1 + w1, y1 + h1), (255, 0, 0), 2)\n",
    "            cv2.putText(frame, \"Object 1\", (x1, y1 - 10), cv2.FONT_HERSHEY_SIMPLEX, 0.5, (255, 0, 0), 2)\n",
    "            coords_obj1.append((x1, y1))  # Store coordinates\n",
    "        else:\n",
    "            coords_obj1.append((None, None))  # Append None if tracking failed\n",
    "            cv2.putText(frame, \"Object 1 Lost\", (50, 50), cv2.FONT_HERSHEY_SIMPLEX, 0.75, (0, 0, 255), 2)\n",
    "\n",
    "        # Update the second tracker and draw its bounding box\n",
    "        success2, bbox2 = tracker2.update(frame)\n",
    "        if success2:\n",
    "            (x2, y2, w2, h2) = [int(v) for v in bbox2]\n",
    "            cv2.rectangle(frame, (x2, y2), (x2 + w2, y2 + h2), (0, 255, 0), 2)\n",
    "            cv2.putText(frame, \"Object 2\", (x2, y2 - 10), cv2.FONT_HERSHEY_SIMPLEX, 0.5, (0, 255, 0), 2)\n",
    "            coords_obj2.append((x2, y2))  # Store coordinates\n",
    "        else:\n",
    "            coords_obj2.append((None, None))  # Append None if tracking failed\n",
    "            cv2.putText(frame, \"Object 2 Lost\", (50, 80), cv2.FONT_HERSHEY_SIMPLEX, 0.75, (0, 0, 255), 2)\n",
    "\n",
    "        # Display the frame with tracked objects\n",
    "        cv2.imshow(\"Two-Object Tracking\", frame)\n",
    "\n",
    "    # Increment the frame count\n",
    "    frame_count += 1\n",
    "\n",
    "    # Exit if 'q' is pressed\n",
    "    if cv2.waitKey(1) & 0xFF == ord('q'):\n",
    "        break\n",
    "\n",
    "video.release()\n",
    "cv2.destroyAllWindows()\n",
    "\n",
    "# Export to CSV\n",
    "with open(f\"object_tracking_coordinates1.csv\", mode=\"w\", newline=\"\") as file:\n",
    "    writer = csv.writer(file)\n",
    "    writer.writerow([\"Frame\", \"Object 1 X\", \"Object 1 Y\", \"Object 2 X\", \"Object 2 Y\"])\n",
    "    for i, (coord1, coord2) in enumerate(zip(coords_obj1, coords_obj2)):\n",
    "        writer.writerow([i * 10, coord1[0], coord1[1], coord2[0], coord2[1]])\n",
    "\n",
    "print(\"Coordinates saved to object_tracking_coordinates.csv\")\n"
   ],
   "outputs": [
    {
     "ename": "KeyboardInterrupt",
     "evalue": "",
     "output_type": "error",
     "traceback": [
      "\u001B[1;31m---------------------------------------------------------------------------\u001B[0m",
      "\u001B[1;31mKeyboardInterrupt\u001B[0m                         Traceback (most recent call last)",
      "Cell \u001B[1;32mIn[1], line 74\u001B[0m\n\u001B[0;32m     71\u001B[0m     frame_count \u001B[38;5;241m+\u001B[39m\u001B[38;5;241m=\u001B[39m \u001B[38;5;241m1\u001B[39m\n\u001B[0;32m     73\u001B[0m     \u001B[38;5;66;03m# Exit if 'q' is pressed\u001B[39;00m\n\u001B[1;32m---> 74\u001B[0m     \u001B[38;5;28;01mif\u001B[39;00m \u001B[43mcv2\u001B[49m\u001B[38;5;241;43m.\u001B[39;49m\u001B[43mwaitKey\u001B[49m\u001B[43m(\u001B[49m\u001B[38;5;241;43m1\u001B[39;49m\u001B[43m)\u001B[49m \u001B[38;5;241m&\u001B[39m \u001B[38;5;241m0xFF\u001B[39m \u001B[38;5;241m==\u001B[39m \u001B[38;5;28mord\u001B[39m(\u001B[38;5;124m'\u001B[39m\u001B[38;5;124mq\u001B[39m\u001B[38;5;124m'\u001B[39m):\n\u001B[0;32m     75\u001B[0m         \u001B[38;5;28;01mbreak\u001B[39;00m\n\u001B[0;32m     77\u001B[0m video\u001B[38;5;241m.\u001B[39mrelease()\n",
      "\u001B[1;31mKeyboardInterrupt\u001B[0m: "
     ]
    }
   ],
   "execution_count": 1
  },
  {
   "metadata": {},
   "cell_type": "markdown",
   "source": "### Plotting the angle of each object over time",
   "id": "b0fb38bbebf89f2"
  },
  {
   "cell_type": "code",
   "execution_count": null,
   "id": "172c7527",
   "metadata": {},
   "outputs": [],
   "source": []
  }
 ],
 "metadata": {
  "kernelspec": {
   "display_name": "base",
   "language": "python",
   "name": "python3"
  },
  "language_info": {
   "codemirror_mode": {
    "name": "ipython",
    "version": 3
   },
   "file_extension": ".py",
   "mimetype": "text/x-python",
   "name": "python",
   "nbconvert_exporter": "python",
   "pygments_lexer": "ipython3",
   "version": "3.11.5"
  }
 },
 "nbformat": 4,
 "nbformat_minor": 5
}
