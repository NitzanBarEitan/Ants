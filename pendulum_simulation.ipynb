{
 "cells": [
  {
   "cell_type": "code",
   "execution_count": 1,
   "id": "initial_id",
   "metadata": {
    "ExecuteTime": {
     "end_time": "2024-09-26T13:54:20.232575Z",
     "start_time": "2024-09-26T13:54:19.049503Z"
    },
    "collapsed": true
   },
   "outputs": [],
   "source": [
    "from matplotlib import pyplot as plt\n",
    "import numpy as np\n",
    "from matplotlib.animation import FuncAnimation, FFMpegWriter"
   ]
  },
  {
   "cell_type": "markdown",
   "id": "d2fc29100dc18114",
   "metadata": {
    "collapsed": false
   },
   "source": []
  },
  {
   "cell_type": "code",
   "execution_count": 2,
   "id": "d71a150989a283c4",
   "metadata": {
    "ExecuteTime": {
     "end_time": "2024-09-26T13:54:20.687504Z",
     "start_time": "2024-09-26T13:54:20.236512Z"
    },
    "collapsed": false
   },
   "outputs": [
    {
     "data": {
      "image/png": "[encoded data removed]",
      "text/plain": [
       "<Figure size 640x480 with 1 Axes>"
      ]
     },
     "metadata": {},
     "output_type": "display_data"
    },
    {
     "data": {
      "text/plain": [
       "array([[ 0.70710678, -0.70710678],\n",
       "       [ 0.70710678, -0.70711659],\n",
       "       [ 0.70710629, -0.70713572],\n",
       "       ...,\n",
       "       [-0.58466712, -0.81146936],\n",
       "       [-0.5858156 , -0.81062203],\n",
       "       [-0.58695566, -0.80977284]])"
      ]
     },
     "execution_count": 2,
     "metadata": {},
     "output_type": "execute_result"
    }
   ],
   "source": [
    "# Constants\n",
    "g = 9.81  # Gravitational acceleration (positive value for downward)\n",
    "m = 0.1  # Mass of the pendulum\n",
    "l0 = 1  # Natural length of the spring\n",
    "dt = 0.001  # Time step\n",
    "t_max = 5  # Total simulation time\n",
    "k = 10000  # Spring constant\n",
    "\n",
    "# Number of steps\n",
    "n = int(t_max / dt)\n",
    "\n",
    "# Arrays to store values\n",
    "a = np.zeros((n, 2))\n",
    "v = np.zeros((n, 2))\n",
    "x = np.zeros((n, 2))\n",
    "t = np.zeros(n) \n",
    "\n",
    "# Initial conditions\n",
    "x[0] = [0.5**0.5, -0.5**0.5]\n",
    "\n",
    "# Simulation loop\n",
    "for i in range(n - 1):\n",
    "    l = np.sqrt(x[i][0]**2 + x[i][1]**2)\n",
    "    # Calculate the spring force magnitude\n",
    "    F_s = - k * (l - l0)\n",
    "\n",
    "    # Normalize the direction vector\n",
    "    dir_x = x[i][0] / l # sin(theta)\n",
    "    dir_y = x[i][1] / l # cos(theta)\n",
    "    \n",
    "    sigmaF = np.array([dir_x * F_s, dir_y * F_s - m * g])\n",
    "\n",
    "    # Update acceleration\n",
    "    a[i + 1] = sigmaF / m\n",
    "\n",
    "    # Update velocity\n",
    "    v[i + 1] = v[i] + dt * a[i + 1]\n",
    "\n",
    "    # Update position\n",
    "    x[i + 1] = x[i] + dt * v[i + 1]\n",
    "\n",
    "    # Update time\n",
    "    t[i + 1] = t[i] + dt\n",
    "\n",
    "# Plotting the trajectory\n",
    "plt.plot(x[:, 0], x[:, 1])\n",
    "plt.xlim(-1.5,1.5)\n",
    "plt.ylim(-1.5,1.5)\n",
    "plt.xlabel('x')\n",
    "plt.ylabel('y')\n",
    "plt.title('Trajectory of the Pendulum with Spring')\n",
    "plt.grid(True)\n",
    "plt.show()\n",
    "x"
   ]
  },
  {
   "cell_type": "markdown",
   "id": "e6830c47c8419354",
   "metadata": {
    "collapsed": false
   },
   "source": [
    "## Double Pendulum Simulation"
   ]
  },
  {
   "cell_type": "code",
   "execution_count": 7,
   "id": "bca5d6bca1eba304",
   "metadata": {
    "ExecuteTime": {
     "end_time": "2024-11-13T10:23:27.069166Z",
     "start_time": "2024-11-13T10:23:24.620614Z"
    },
    "collapsed": false
   },
   "outputs": [
    {
     "ename": "ValueError",
     "evalue": "could not broadcast input array from shape (2,2) into shape (2,)",
     "output_type": "error",
     "traceback": [
      "\u001b[1;31m---------------------------------------------------------------------------\u001b[0m",
      "\u001b[1;31mValueError\u001b[0m                                Traceback (most recent call last)",
      "Cell \u001b[1;32mIn[7], line 60\u001b[0m\n\u001b[0;32m     57\u001b[0m sigmaF2 \u001b[38;5;241m=\u001b[39m np\u001b[38;5;241m.\u001b[39marray([dir_x2 \u001b[38;5;241m*\u001b[39m F_s2, dir_y2 \u001b[38;5;241m*\u001b[39m F_s2 \u001b[38;5;241m-\u001b[39m m \u001b[38;5;241m*\u001b[39m g])\n\u001b[0;32m     59\u001b[0m \u001b[38;5;66;03m# Update acceleration\u001b[39;00m\n\u001b[1;32m---> 60\u001b[0m a[i \u001b[38;5;241m+\u001b[39m \u001b[38;5;241m1\u001b[39m] \u001b[38;5;241m=\u001b[39m sigmaF \u001b[38;5;241m/\u001b[39m m\n\u001b[0;32m     61\u001b[0m a2[i \u001b[38;5;241m+\u001b[39m \u001b[38;5;241m1\u001b[39m] \u001b[38;5;241m=\u001b[39m sigmaF2 \u001b[38;5;241m/\u001b[39m m\n\u001b[0;32m     63\u001b[0m \u001b[38;5;66;03m# Update velocity\u001b[39;00m\n",
      "\u001b[1;31mValueError\u001b[0m: could not broadcast input array from shape (2,2) into shape (2,)"
     ]
    }
   ],
   "source": [
    "import numpy as np\n",
    "import matplotlib.pyplot as plt\n",
    "\n",
    "# Constants\n",
    "g = 9.81  # Gravitational acceleration (positive value for downward)\n",
    "m = 0.1  # Mass of the pendulum\n",
    "l0 = 1  # Natural length of the springs - a sum of the three springs in the system\n",
    "dt = 0.001  # Time step\n",
    "t_max = 20  # Total simulation time\n",
    "k = 10000  # Spring constant\n",
    "noise_strength = 200\n",
    "\n",
    "# Number of steps\n",
    "n = int(t_max / dt)\n",
    "\n",
    "# Arrays to store values\n",
    "t = np.zeros(n)\n",
    "a = np.zeros((n, 2))\n",
    "v = np.zeros((n, 2))\n",
    "x = np.zeros((n, 2))\n",
    "\n",
    "a2 = np.zeros((n, 2))\n",
    "v2 = np.zeros((n, 2))\n",
    "x2 = np.zeros((n, 2))\n",
    "\n",
    "# Arrays to store angles\n",
    "theta1 = np.zeros(n)\n",
    "theta2 = np.zeros(n)\n",
    "\n",
    "# Initial conditions\n",
    "x[0] = [2, 0]\n",
    "x2[0] = [-2, 0]\n",
    "\n",
    "# Set initial velocities (non-zero)\n",
    "v[0] = [0.0, -5]  # Example initial velocity for pendulum 1\n",
    "v2[0] = [0.0, -5]  # Example initial velocity for pendulum 2\n",
    "\n",
    "# Simulation loop\n",
    "for i in range(n - 1):\n",
    "    # Calculate the lengths of the springs\n",
    "    l = np.sqrt((x[i][0] - 1)**2 + x[i][1]**2)\n",
    "    l2 = np.sqrt((x2[i][0] + 1)**2 + x2[i][1]**2)\n",
    "\n",
    "    # Calculate the spring force magnitude\n",
    "    F_s = - k * (l - l0) +v[i] * noise_strength\n",
    "    F_s2 = - k * (l2 - l0) + v2[i] * noise_strength\n",
    "\n",
    "    # Normalize the direction vector\n",
    "    dir_x = (x[i][0] - 1) / l  # sin(theta)\n",
    "    dir_y = x[i][1] / l  # cos(theta)\n",
    "\n",
    "    dir_x2 = (x2[i][0] + 1) / l2  # sin(theta)\n",
    "    dir_y2 = x2[i][1] / l2  # cos(theta)\n",
    "\n",
    "    # Resultant forces\n",
    "    sigmaF = np.array([dir_x * F_s, dir_y * F_s - m * g])\n",
    "    sigmaF2 = np.array([dir_x2 * F_s2, dir_y2 * F_s2 - m * g])\n",
    "\n",
    "    # Update acceleration\n",
    "    a[i + 1] = sigmaF / m\n",
    "    a2[i + 1] = sigmaF2 / m\n",
    "\n",
    "    # Update velocity\n",
    "    v[i + 1] = v[i] + dt * a[i + 1]\n",
    "    v2[i + 1] = v2[i] + dt * a2[i + 1]\n",
    "\n",
    "    # Update position\n",
    "    x[i + 1] = x[i] + dt * v[i + 1]\n",
    "    x2[i + 1] = x2[i] + dt * v2[i + 1]\n",
    "\n",
    "    # Update time\n",
    "    t[i + 1] = t[i] + dt\n",
    "\n",
    "    # Calculate angles (atan2 handles quadrant correctly)\n",
    "    theta1[i + 1] = np.arctan2(x[i + 1][0] - 1, -x[i + 1][1])\n",
    "    theta2[i + 1] = np.arctan2(x2[i + 1][0] + 1, -x2[i + 1][1])\n",
    "\n",
    "# Plotting angles over time\n",
    "plt.figure(figsize=(12, 6))\n",
    "plt.scatter(t, theta1, label='Pendulum 1 Angle', color='red', s=0.5)\n",
    "plt.scatter(t, theta2, label='Pendulum 2 Angle', color='blue', s=0.5)\n",
    "plt.xlabel('Time (s)')\n",
    "plt.ylabel('Angle (radians)')\n",
    "plt.title('Angles of Pendulums Over Time with Initial Velocities')\n",
    "plt.legend()\n",
    "plt.grid()\n",
    "plt.show()"
   ]
  }
 ],
 "metadata": {
  "kernelspec": {
   "display_name": "base",
   "language": "python",
   "name": "python3"
  },
  "language_info": {
   "codemirror_mode": {
    "name": "ipython",
    "version": 3
   },
   "file_extension": ".py",
   "mimetype": "text/x-python",
   "name": "python",
   "nbconvert_exporter": "python",
   "pygments_lexer": "ipython3",
   "version": "3.11.5"
  }
 },
 "nbformat": 4,
 "nbformat_minor": 5
}
